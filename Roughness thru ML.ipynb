{
 "cells": [
  {
   "cell_type": "markdown",
   "metadata": {},
   "source": [
    "We will use a Convolutional Neural Network to classify the roughness exponent, $\\zeta$ (zeta), of artificially created interfaces."
   ]
  },
  {
   "cell_type": "code",
   "execution_count": null,
   "metadata": {
    "scrolled": true
   },
   "outputs": [],
   "source": [
    "import numpy as np\n",
    "import matplotlib.pyplot as plt\n",
    "%matplotlib inline\n",
    "\n",
    "from sklearn.model_selection import train_test_split\n",
    "\n",
    "import keras\n",
    "from keras.models import Sequential\n",
    "from keras.layers import Dense, Dropout, Flatten\n",
    "from keras.layers import Conv2D, MaxPooling2D\n",
    "\n",
    "#to save model.summary()\n",
    "from contextlib import redirect_stdout"
   ]
  },
  {
   "cell_type": "code",
   "execution_count": null,
   "metadata": {},
   "outputs": [],
   "source": [
    "#Setting a seed for reproducibility\n",
    "np.random.seed(7)\n",
    "\n",
    "#dimensions of input image of interface (a square)\n",
    "length = 128\n",
    "\n",
    "#amount of images per zeta value\n",
    "Ninterfaces = 2000\n",
    "\n",
    "#zetas to test\n",
    "zetas = np.arange(0.05, 1.05, 0.05)\n",
    "\n",
    "#proportion of train data to use as validation\n",
    "test_size = 0.2\n",
    "\n",
    "#other params\n",
    "batch_size = 64\n",
    "num_classes = len(zetas)\n",
    "epochs = 12\n",
    "\n",
    "#The following functions generate the interfaces to train and validate.\n",
    "def generate_interfaces(Ninterfaces, length, zetas, amplitude = 1.0, shuffle = True):\n",
    "    \"\"\"\n",
    "    Generates Ninterfaces of a certain length (integer) for each value of zeta (a float or list of floats) provided.\n",
    "    Will return numpy arrays with type 'float32'.\n",
    "    \"\"\"\n",
    "    if type(zetas)== float:\n",
    "        zetas = [zetas]\n",
    "    #\n",
    "    q = 2*np.pi/length *( np.arange(Ninterfaces*length/2)%(length/2) + 1 )\n",
    "    q = q.reshape(Ninterfaces, length//2)\n",
    "    interfaces = []\n",
    "    zeta_interfs = []\n",
    "    for zeta in zetas:\n",
    "        z_q = np.random.normal(scale=np.sqrt(amplitude*q**(-1-2*zeta))) * np.exp(1j * 2*np.pi*np.random.rand(length//2))\n",
    "        u_z = np.fft.ifft(z_q, n=length).real\n",
    "        u_z_quant = np.zeros_like(u_z)\n",
    "        for interface in range(Ninterfaces):\n",
    "            u_z_quant[interface] = np.round((u_z[interface] - u_z[interface].mean())*(length//2)) + length//2\n",
    "            img = np.array([[1.]*length]*length) #1. is max brightness.\n",
    "            for row in range(length):\n",
    "                img[row, int(u_z_quant[interface,row]):] = 0.\n",
    "            interfaces.append(img)\n",
    "            zeta_interfs.append(zeta)\n",
    "    if shuffle:\n",
    "        indices = np.arange(len(interfaces))\n",
    "        np.random.shuffle(indices)\n",
    "        interfaces = np.array(interfaces)[indices]\n",
    "        zeta_interfs = np.array(zeta_interfs)[indices]\n",
    "    return tuple([interfaces.astype('float32'), zeta_interfs.astype('float32')])\n",
    "\n",
    "def generate_train_validate_set(Ninterfaces, length, zetas, test_size):\n",
    "    \"\"\"\n",
    "    Generate interfaces and split them into intrfs_train, intrfs_valid, zetas_train, zetas_valid.\n",
    "    \"\"\"\n",
    "    all_train_interfaces, all_train_zetas = generate_interfaces(Ninterfaces, length, zetas)\n",
    "    return train_test_split(all_train_interfaces, all_train_zetas, test_size=test_size)"
   ]
  },
  {
   "cell_type": "code",
   "execution_count": null,
   "metadata": {},
   "outputs": [],
   "source": [
    "#Sample interfaces:\n",
    "random_zetas = [.1, .45, .95]\n",
    "#to obtain a random sample of interfaces use np.random.choice(zetas, 3) instead of list above\n",
    "interfs_sample, zetas_sample = generate_interfaces(1, length, random_zetas)\n",
    "fig, axs = plt.subplots(1,3)\n",
    "fig.set_size_inches(12, 6)\n",
    "for i in range(len(interfs_sample)):\n",
    "    axs[i].imshow(interfs_sample[i], cmap='gray')\n",
    "    axs[i].set_title('$\\zeta$ = '+str(zetas_sample[i]))"
   ]
  },
  {
   "cell_type": "code",
   "execution_count": null,
   "metadata": {},
   "outputs": [],
   "source": [
    "#Generating train and validate sets\n",
    "interfs_train, interfs_valid, zetas_train, zetas_valid = generate_train_validate_set(Ninterfaces, length, \n",
    "                                                                                     zetas, test_size)\n",
    "#reshaping data to 'channels_last' format\n",
    "interfs_train = interfs_train.reshape(interfs_train.shape[0], length, length, 1)\n",
    "interfs_valid = interfs_valid.reshape(interfs_valid.shape[0], length, length, 1)\n",
    "input_shape = (length, length, 1)\n",
    "\n",
    "# convert class vectors to binary class matrices\n",
    "zetas_train = keras.utils.to_categorical(zetas_train*20-1, num_classes)\n",
    "zetas_valid = keras.utils.to_categorical(zetas_valid*20-1, num_classes)\n",
    "#the *20-1 is because .to_categorical() requires array of ints"
   ]
  },
  {
   "cell_type": "code",
   "execution_count": null,
   "metadata": {},
   "outputs": [],
   "source": [
    "#Model\n",
    "model = Sequential()\n",
    "model.add(Conv2D(64, kernel_size=(3, 3),\n",
    "                 activation='relu',\n",
    "                 input_shape=input_shape))\n",
    "model.add(MaxPooling2D(pool_size=(2, 2)))\n",
    "\n",
    "#model.add(Conv2D(64, (3, 3), activation='relu'))\n",
    "#model.add(MaxPooling2D(pool_size=(2, 2)))\n",
    "\n",
    "model.add(Conv2D(128, (3, 3), activation='relu'))\n",
    "model.add(MaxPooling2D(pool_size=(2, 2)))\n",
    "\n",
    "model.add(Conv2D(256, (3, 3), activation='relu'))\n",
    "model.add(MaxPooling2D(pool_size=(2, 2)))\n",
    "\n",
    "\n",
    "model.add(Flatten())\n",
    "model.add(Dropout(0.5))\n",
    "\n",
    "\n",
    "model.add(Dense(num_classes, activation='softmax'))\n",
    "\n",
    "#Compiling model\n",
    "model.compile(loss=keras.losses.categorical_crossentropy,\n",
    "              optimizer=keras.optimizers.adam(),\n",
    "              metrics=['accuracy'])"
   ]
  },
  {
   "cell_type": "code",
   "execution_count": null,
   "metadata": {},
   "outputs": [],
   "source": [
    "#Summary of model\n",
    "model.summary()\n",
    "\n",
    "#Training and evaluating\n",
    "model.fit(interfs_train, zetas_train,\n",
    "          batch_size=batch_size,\n",
    "          epochs=epochs,\n",
    "          verbose=1,\n",
    "          validation_data=(interfs_valid, zetas_valid))\n",
    "\n",
    "score = model.evaluate(interfs_valid, zetas_valid, verbose=0)\n",
    "print('Validation loss:', score[0])\n",
    "print('Validation accuracy:', score[1])"
   ]
  },
  {
   "cell_type": "code",
   "execution_count": null,
   "metadata": {},
   "outputs": [],
   "source": [
    "#Plotting the training and validation accuracy curve\n",
    "history = model.history\n",
    "acc = history.history['acc']\n",
    "val_acc = history.history['val_acc']\n",
    "loss = history.history['loss']\n",
    "val_loss = history.history['val_loss']\n",
    "\n",
    "epochs_range = range(1, len(acc) + 1)\n",
    "\n",
    "#Train and validation accuracy\n",
    "plt.plot(epochs_range, acc, 'b', label='Training accurarcy')\n",
    "plt.plot(epochs_range, val_acc, 'r', label='Validation accurarcy')\n",
    "plt.title('Training and Validation accurarcy')\n",
    "plt.legend()\n",
    "\n",
    "plt.figure()\n",
    "#Train and validation loss\n",
    "plt.plot(epochs_range, loss, 'b', label='Training loss')\n",
    "plt.plot(epochs_range, val_loss, 'r', label='Validation loss')\n",
    "plt.title('Training and Validation loss')\n",
    "plt.legend()\n",
    "\n",
    "plt.show()"
   ]
  },
  {
   "cell_type": "code",
   "execution_count": null,
   "metadata": {},
   "outputs": [],
   "source": [
    "#testing with some new interfaces\n",
    "#choosing 5 random zeta values and generating 2 interfaces per zeta\n",
    "random_zetas = np.random.choice(zetas, 5)\n",
    "interfs_test, zetas_test = generate_interfaces(2, length, random_zetas)\n",
    "\n",
    "#reshaping for prediction and saving predictions\n",
    "interfs_test_pred = interfs_test.reshape(10, length, length, 1)\n",
    "predictions = model.predict(interfs_test_pred)\n",
    "\n",
    "#extracting predicting zetas\n",
    "zetas_pred = []\n",
    "for i in range(len(interfs_test)):\n",
    "    zetas_pred.append(np.round(zetas[predictions[i].argmax()],2))\n",
    "zetas_pred = np.array(zetas_pred)"
   ]
  },
  {
   "cell_type": "code",
   "execution_count": null,
   "metadata": {
    "scrolled": true
   },
   "outputs": [],
   "source": [
    "#Visual inspection of prediction vector and actual zeta value:\n",
    "plt.plot(zetas, predictions[4])\n",
    "plt.vlines(zetas_test[4], 0., predictions[4].max())\n",
    "plt.show()"
   ]
  },
  {
   "cell_type": "code",
   "execution_count": null,
   "metadata": {},
   "outputs": [],
   "source": [
    "#Plotting test interfaces:\n",
    "fig, axs = plt.subplots(5,2)\n",
    "fig.set_size_inches(20,25)\n",
    "for i in range(len(interfs_test)):\n",
    "    row = i//2\n",
    "    col = i%2\n",
    "    axs[row,col].imshow(interfs_test[i], cmap='gray')\n",
    "    axs[row,col].set_title('True $\\zeta$='\n",
    "                           +str(zetas_test[i])\n",
    "                           +'/Pred $\\zeta$='\n",
    "                           +str(zetas_pred[i]))\n",
    "\n",
    "#fraction of zetas the model got right in this Test.\n",
    "fractional_accuracy = (zetas_test==zetas_pred).sum() / len(zetas_test)\n",
    "print('Percentage accuracy = '\n",
    "      + str(np.round(fractional_accuracy * 100, 2))\n",
    "      + '%')"
   ]
  },
  {
   "cell_type": "code",
   "execution_count": null,
   "metadata": {},
   "outputs": [],
   "source": [
    "#Save the model and model information\n",
    "model.save('model_roughness_ml.h5')\n",
    "with open('model_infos.txt', 'a') as file:\n",
    "    with redirect_stdout(file):\n",
    "        model.summary()\n",
    "    file.write('Validation loss: ', score[0])\n",
    "    file.write('Validation accuracy: ', score[1])\n",
    "    file.write('Test fractional accuracy: ', fractional_accuracy)"
   ]
  }
 ],
 "metadata": {
  "kernelspec": {
   "display_name": "Python 3",
   "language": "python",
   "name": "python3"
  },
  "language_info": {
   "codemirror_mode": {
    "name": "ipython",
    "version": 3
   },
   "file_extension": ".py",
   "mimetype": "text/x-python",
   "name": "python",
   "nbconvert_exporter": "python",
   "pygments_lexer": "ipython3",
   "version": "3.7.3"
  }
 },
 "nbformat": 4,
 "nbformat_minor": 2
}
