{
 "cells": [
  {
   "cell_type": "markdown",
   "metadata": {},
   "source": [
    "We will use a Convolutional Neural Network to classify the roughness exponent, $\\zeta$ (zeta), of artificially created interfaces."
   ]
  },
  {
   "cell_type": "code",
   "execution_count": null,
   "metadata": {
    "scrolled": true
   },
   "outputs": [],
   "source": [
    "import numpy as np\n",
    "import matplotlib.pyplot as plt\n",
    "%matplotlib inline\n",
    "\n",
    "from sklearn.model_selection import train_test_split\n",
    "\n",
    "import keras\n",
    "from keras.models import Sequential\n",
    "from keras.layers import Dense, Dropout, Flatten\n",
    "from keras.layers import Conv2D, MaxPooling2D"
   ]
  },
  {
   "cell_type": "code",
   "execution_count": null,
   "metadata": {},
   "outputs": [],
   "source": [
    "#Setting a seed for reproducibility\n",
    "np.random.RandomState(7)\n",
    "\n",
    "#dimensions of input image of interface (a square)\n",
    "length = 128\n",
    "\n",
    "#amount of images per zeta value\n",
    "Ninterfaces = 2000\n",
    "\n",
    "#zetas to test\n",
    "zetas = np.arange(0.05, 1.05, 0.05)\n",
    "\n",
    "#proportion of train data to use as validation\n",
    "test_size = 0.2\n",
    "\n",
    "#other params\n",
    "batch_size = 64\n",
    "num_classes = len(zetas)\n",
    "epochs = 10"
   ]
  },
  {
   "cell_type": "code",
   "execution_count": null,
   "metadata": {},
   "outputs": [],
   "source": [
    "#The following functions generate the interfaces to train and validate.\n",
    "def generate_interfaces(Ninterfaces, length, zetas, amplitude = 1.0, shuffle = True):\n",
    "    \"\"\"\n",
    "    Generates Ninterfaces of a certain length (integer) for each value of zeta (a float or list of floats) provided.\n",
    "    Will return numpy arrays with type 'float32'.\n",
    "    \"\"\"\n",
    "    if type(zetas)== float:\n",
    "        zetas = [zetas]\n",
    "    #\n",
    "    q = 2*np.pi/length *( np.arange(Ninterfaces*length/2)%(length/2) + 1 )\n",
    "    q = q.reshape(Ninterfaces, length//2)\n",
    "    interfaces = []\n",
    "    zeta_interfs = []\n",
    "    for zeta in zetas:\n",
    "        z_q = np.random.normal(scale=np.sqrt(amplitude*q**(-1-2*zeta))) * np.exp(1j * 2*np.pi*np.random.rand(length//2))\n",
    "        u_z = np.fft.ifft(z_q, n=length).real\n",
    "        u_z_quant = np.zeros_like(u_z)\n",
    "        for interface in range(Ninterfaces):\n",
    "            u_z_quant[interface] = np.round((u_z[interface] - u_z[interface].mean())*(length//2)) + length//2\n",
    "            img = np.array([[1.]*length]*length) #1. is max brightness.\n",
    "            for row in range(length):\n",
    "                img[row, int(u_z_quant[interface,row]):] = 0.\n",
    "            interfaces.append(img)\n",
    "            zeta_interfs.append(zeta)\n",
    "    if shuffle:\n",
    "        indices = np.arange(len(interfaces))\n",
    "        np.random.shuffle(indices)\n",
    "        interfaces = np.array(interfaces)[indices]\n",
    "        zeta_interfs = np.array(zeta_interfs)[indices]\n",
    "    return tuple([interfaces.astype('float32'), zeta_interfs.astype('float32')])\n",
    "\n",
    "def generate_train_validate_set(Ninterfaces, length, zetas, test_size):\n",
    "    \"\"\"\n",
    "    Generate interfaces and split them into intrfs_train, intrfs_valid, zetas_train, zetas_valid.\n",
    "    \"\"\"\n",
    "    all_train_interfaces, all_train_zetas = generate_interfaces(Ninterfaces, length, zetas)\n",
    "    return train_test_split(all_train_interfaces, all_train_zetas, test_size=test_size)"
   ]
  },
  {
   "cell_type": "code",
   "execution_count": null,
   "metadata": {},
   "outputs": [],
   "source": [
    "#Sample interfaces:\n",
    "random_zetas = [.1, .45, .95]\n",
    "#to obtain a random sample of interfaces use np.random.choice(zetas, 3) instead of list above\n",
    "interfs_sample, zetas_sample = generate_interfaces(1, 128, random_zetas)\n",
    "fig, axs = plt.subplots(1,3)\n",
    "fig.set_size_inches(12, 6)\n",
    "for i in range(len(interfs_sample)):\n",
    "    axs[i].imshow(interfs_sample[i], cmap='gray')\n",
    "    axs[i].set_title('$\\zeta$ = '+str(zetas_sample[i]))"
   ]
  },
  {
   "cell_type": "code",
   "execution_count": null,
   "metadata": {},
   "outputs": [],
   "source": [
    "#Generating train and validate sets\n",
    "interfs_train, interfs_valid, zetas_train, zetas_valid = generate_train_validate_set(Ninterfaces, length, \n",
    "                                                                                     zetas, test_size)\n",
    "#reshaping data to 'channels_last' format\n",
    "interfs_train = interfs_train.reshape(interfs_train.shape[0], length, length, 1)\n",
    "interfs_valid = interfs_valid.reshape(interfs_valid.shape[0], length, length, 1)\n",
    "input_shape = (length, length, 1)\n",
    "\n",
    "# convert class vectors to binary class matrices\n",
    "zetas_train = keras.utils.to_categorical(zetas_train, num_classes)\n",
    "zetas_valid = keras.utils.to_categorical(zetas_valid, num_classes)"
   ]
  },
  {
   "cell_type": "code",
   "execution_count": null,
   "metadata": {},
   "outputs": [],
   "source": [
    "#Model\n",
    "model = Sequential()\n",
    "model.add(Conv2D(32, kernel_size=(3, 3),\n",
    "                 activation='relu',\n",
    "                 input_shape=input_shape))\n",
    "#model.add(Conv2D(64, (3, 3), activation='relu'))\n",
    "model.add(MaxPooling2D(pool_size=(2, 2)))\n",
    "model.add(Dropout(0.25))\n",
    "#model.add(Conv2D(128, (3, 3), activation='relu'))\n",
    "#model.add(MaxPooling2D(pool_size=(2, 2)))\n",
    "#model.add(Dropout(0.5))\n",
    "model.add(Flatten())\n",
    "model.add(Dense(128, activation='relu'))\n",
    "model.add(Dropout(0.5))\n",
    "model.add(Dense(num_classes, activation='softmax'))"
   ]
  },
  {
   "cell_type": "code",
   "execution_count": null,
   "metadata": {},
   "outputs": [],
   "source": [
    "#Summary of model\n",
    "model.summary()"
   ]
  },
  {
   "cell_type": "code",
   "execution_count": null,
   "metadata": {},
   "outputs": [],
   "source": [
    "#Compiling model\n",
    "model.compile(loss=keras.losses.categorical_crossentropy,\n",
    "              optimizer=keras.optimizers.Adadelta(),\n",
    "              metrics=['accuracy'])"
   ]
  },
  {
   "cell_type": "code",
   "execution_count": null,
   "metadata": {},
   "outputs": [],
   "source": [
    "#Training and evaluating\n",
    "model.fit(interfs_train, zetas_train,\n",
    "          batch_size=batch_size,\n",
    "          epochs=epochs,\n",
    "          verbose=1,\n",
    "          validation_data=(interfs_valid, zetas_valid))\n",
    "\n",
    "score = model.evaluate(interfs_valid, zetas_valid, verbose=0)\n",
    "print('Test loss:', score[0])\n",
    "print('Test accuracy:', score[1])"
   ]
  },
  {
   "cell_type": "code",
   "execution_count": null,
   "metadata": {},
   "outputs": [],
   "source": [
    "#Save the model\n",
    "model.save('model_roughnessml.h5')"
   ]
  },
  {
   "cell_type": "code",
   "execution_count": null,
   "metadata": {},
   "outputs": [],
   "source": [
    "#Plotting the training and validation accuracy curve\n",
    "history = model.history\n",
    "acc = history.history['acc']\n",
    "val_acc = history.history['val_acc']\n",
    "loss = history.history['loss']\n",
    "val_loss = history.history['val_loss']\n",
    "\n",
    "epochs_range = range(1, len(acc) + 1)\n",
    "\n",
    "#Train and validation accuracy\n",
    "plt.plot(epochs_range, acc, 'b', label='Training accurarcy')\n",
    "plt.plot(epochs_range, val_acc, 'r', label='Validation accurarcy')\n",
    "plt.title('Training and Validation accurarcy')\n",
    "plt.legend()\n",
    "\n",
    "plt.figure()\n",
    "#Train and validation loss\n",
    "plt.plot(epochs_range, loss, 'b', label='Training loss')\n",
    "plt.plot(epochs_range, val_loss, 'r', label='Validation loss')\n",
    "plt.title('Training and Validation loss')\n",
    "plt.legend()\n",
    "\n",
    "plt.show()"
   ]
  },
  {
   "cell_type": "code",
   "execution_count": null,
   "metadata": {},
   "outputs": [],
   "source": [
    "#testing with some new interfaces, two per zeta value:\n",
    "random_zetas = np.random.choice(zetas, 5)\n",
    "interfs_test, zetas_test = generate_interfaces(2, 128, random_zetas)\n",
    "\n",
    "interfs_test_pred = interfs_test.reshape(10, 128, 128, 1)\n",
    "\n",
    "predictions = model.predict(interfs_test_pred)"
   ]
  },
  {
   "cell_type": "code",
   "execution_count": null,
   "metadata": {},
   "outputs": [],
   "source": [
    "plt.plot(predictions[0])\n",
    "plt.show()"
   ]
  },
  {
   "cell_type": "code",
   "execution_count": null,
   "metadata": {},
   "outputs": [],
   "source": [
    "#Plotting test interfaces:\n",
    "fig, axs = plt.subplots(5,2)\n",
    "fig.set_size_inches(12,15)\n",
    "for i in range(len(interfs_test)):\n",
    "    row = i//2\n",
    "    col = i%2\n",
    "    axs[row,col].imshow(interfs_test[i], cmap='gray')\n",
    "    axs[row,col].set_title('True $\\zeta$='+str(zetas_test[i])+'/Pred $\\zeta$='+\n",
    "                    str(zetas_test[predictions[i].argmax()]))"
   ]
  },
  {
   "cell_type": "code",
   "execution_count": null,
   "metadata": {},
   "outputs": [],
   "source": []
  }
 ],
 "metadata": {
  "kernelspec": {
   "display_name": "Python 3",
   "language": "python",
   "name": "python3"
  },
  "language_info": {
   "codemirror_mode": {
    "name": "ipython",
    "version": 3
   },
   "file_extension": ".py",
   "mimetype": "text/x-python",
   "name": "python",
   "nbconvert_exporter": "python",
   "pygments_lexer": "ipython3",
   "version": "3.7.3"
  }
 },
 "nbformat": 4,
 "nbformat_minor": 2
}
